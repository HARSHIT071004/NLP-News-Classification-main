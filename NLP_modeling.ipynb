{
 "cells": [
  {
   "cell_type": "markdown",
   "id": "d44c1a40",
   "metadata": {},
   "source": [
    "Library importing"
   ]
  },
  {
   "cell_type": "code",
   "execution_count": 2,
   "id": "99dbd793",
   "metadata": {},
   "outputs": [],
   "source": [
    "import os\n",
    "import pandas as pd\n",
    "import regex as re\n",
    "import numpy as np\n",
    "import spacy\n",
    "from rapidfuzz import process\n",
    "from sklearn.feature_extraction.text import TfidfVectorizer, CountVectorizer\n",
    "from sklearn.model_selection import train_test_split\n",
    "from sklearn.naive_bayes import MultinomialNB\n",
    "from sklearn.metrics import classification_report, confusion_matrix, accuracy_score\n",
    "import seaborn as sns\n",
    "import matplotlib.pyplot as plt\n",
    "\n",
    "nlp = spacy.load(\"en_core_web_lg\")"
   ]
  },
  {
   "cell_type": "markdown",
   "id": "d525dd19",
   "metadata": {},
   "source": [
    "Loading the dataset"
   ]
  },
  {
   "cell_type": "code",
   "execution_count": 3,
   "id": "431aa6b6",
   "metadata": {},
   "outputs": [
    {
     "name": "stdout",
     "output_type": "stream",
     "text": [
      "        category                                               text\n",
      "0           tech  tv future in the hands of viewers with home th...\n",
      "1       business  worldcom boss  left books alone  former worldc...\n",
      "2          sport  tigers wary of farrell  gamble  leicester say ...\n",
      "3          sport  yeading face newcastle in fa cup premiership s...\n",
      "4  entertainment  ocean s twelve raids box office ocean s twelve...\n",
      "<class 'pandas.core.frame.DataFrame'>\n",
      "RangeIndex: 2225 entries, 0 to 2224\n",
      "Data columns (total 2 columns):\n",
      " #   Column    Non-Null Count  Dtype \n",
      "---  ------    --------------  ----- \n",
      " 0   category  2225 non-null   object\n",
      " 1   text      2225 non-null   object\n",
      "dtypes: object(2)\n",
      "memory usage: 34.9+ KB\n",
      "None\n"
     ]
    }
   ],
   "source": [
    "import pandas as pd\n",
    "import os\n",
    "\n",
    "# Folder path\n",
    "path = \".\\\\datasets\"  # ya r\".\\datasets\" bhi chalega\n",
    "\n",
    "# File name\n",
    "file_name = \"bbc-text.csv\"\n",
    "\n",
    "# Full path\n",
    "file_path = os.path.join(path, file_name)\n",
    "\n",
    "# Dataset load karna\n",
    "news_df = pd.read_csv(file_path)\n",
    "\n",
    "# First 5 rows dekhna\n",
    "print(news_df.head())\n",
    "\n",
    "\n",
    "# Dataset info check karna\n",
    "print(news_df.info())"
   ]
  },
  {
   "cell_type": "code",
   "execution_count": 4,
   "id": "9d2e8061",
   "metadata": {},
   "outputs": [],
   "source": [
    "# def load_news_articles(base_path):\n",
    "#     data = []\n",
    "#     categories = os.listdir(base_path)\n",
    "    \n",
    "#     for category in categories:\n",
    "#         category_path = os.path.join(base_path, category)\n",
    "#         if os.path.isdir(category_path):\n",
    "#             for filename in os.listdir(category_path):\n",
    "#                 file_path = os.path.join(category_path, filename)\n",
    "#                 with open(file_path, 'r', encoding = 'latin1') as file:\n",
    "#                     content = file.read()\n",
    "#                     data.append((content, category))\n",
    "    \n",
    "#     return pd.DataFrame(data, columns = ['text', 'category'])\n",
    "\n",
    "# news_df = load_news_articles(path)"
   ]
  },
  {
   "cell_type": "code",
   "execution_count": 5,
   "id": "08922f2b",
   "metadata": {},
   "outputs": [
    {
     "data": {
      "text/html": [
       "<div>\n",
       "<style scoped>\n",
       "    .dataframe tbody tr th:only-of-type {\n",
       "        vertical-align: middle;\n",
       "    }\n",
       "\n",
       "    .dataframe tbody tr th {\n",
       "        vertical-align: top;\n",
       "    }\n",
       "\n",
       "    .dataframe thead th {\n",
       "        text-align: right;\n",
       "    }\n",
       "</style>\n",
       "<table border=\"1\" class=\"dataframe\">\n",
       "  <thead>\n",
       "    <tr style=\"text-align: right;\">\n",
       "      <th></th>\n",
       "      <th>category</th>\n",
       "      <th>text</th>\n",
       "    </tr>\n",
       "  </thead>\n",
       "  <tbody>\n",
       "    <tr>\n",
       "      <th>0</th>\n",
       "      <td>tech</td>\n",
       "      <td>tv future in the hands of viewers with home th...</td>\n",
       "    </tr>\n",
       "    <tr>\n",
       "      <th>1</th>\n",
       "      <td>business</td>\n",
       "      <td>worldcom boss  left books alone  former worldc...</td>\n",
       "    </tr>\n",
       "    <tr>\n",
       "      <th>2</th>\n",
       "      <td>sport</td>\n",
       "      <td>tigers wary of farrell  gamble  leicester say ...</td>\n",
       "    </tr>\n",
       "    <tr>\n",
       "      <th>3</th>\n",
       "      <td>sport</td>\n",
       "      <td>yeading face newcastle in fa cup premiership s...</td>\n",
       "    </tr>\n",
       "    <tr>\n",
       "      <th>4</th>\n",
       "      <td>entertainment</td>\n",
       "      <td>ocean s twelve raids box office ocean s twelve...</td>\n",
       "    </tr>\n",
       "  </tbody>\n",
       "</table>\n",
       "</div>"
      ],
      "text/plain": [
       "        category                                               text\n",
       "0           tech  tv future in the hands of viewers with home th...\n",
       "1       business  worldcom boss  left books alone  former worldc...\n",
       "2          sport  tigers wary of farrell  gamble  leicester say ...\n",
       "3          sport  yeading face newcastle in fa cup premiership s...\n",
       "4  entertainment  ocean s twelve raids box office ocean s twelve..."
      ]
     },
     "execution_count": 5,
     "metadata": {},
     "output_type": "execute_result"
    }
   ],
   "source": [
    "news_df.head()"
   ]
  },
  {
   "cell_type": "code",
   "execution_count": 6,
   "id": "86645ddc",
   "metadata": {},
   "outputs": [
    {
     "name": "stdout",
     "output_type": "stream",
     "text": [
      "<class 'pandas.core.frame.DataFrame'>\n",
      "RangeIndex: 2225 entries, 0 to 2224\n",
      "Data columns (total 2 columns):\n",
      " #   Column    Non-Null Count  Dtype \n",
      "---  ------    --------------  ----- \n",
      " 0   category  2225 non-null   object\n",
      " 1   text      2225 non-null   object\n",
      "dtypes: object(2)\n",
      "memory usage: 34.9+ KB\n"
     ]
    }
   ],
   "source": [
    "news_df.info()"
   ]
  },
  {
   "cell_type": "code",
   "execution_count": 7,
   "id": "f28d4d67",
   "metadata": {},
   "outputs": [
    {
     "data": {
      "text/plain": [
       "array(['tech', 'business', 'sport', 'entertainment', 'politics'],\n",
       "      dtype=object)"
      ]
     },
     "execution_count": 7,
     "metadata": {},
     "output_type": "execute_result"
    }
   ],
   "source": [
    "news_df[\"category\"].unique()"
   ]
  },
  {
   "cell_type": "markdown",
   "id": "eb418d03",
   "metadata": {},
   "source": [
    "Named-Entitiy"
   ]
  },
  {
   "cell_type": "code",
   "execution_count": 8,
   "id": "98d338b4",
   "metadata": {},
   "outputs": [],
   "source": [
    "def preserve_entities(text):\n",
    "    doc = nlp(text)\n",
    "    preserved = text\n",
    "    for ent in doc.ents:\n",
    "        tag = f\"<{ent.label_}:{ent.text.replace(' ', '_')}>\" # Replace spaces with underscores in the entity text\n",
    "        preserved = preserved.replace(ent.text, tag) # Preserve the entity text\n",
    "    return preserved"
   ]
  },
  {
   "cell_type": "code",
   "execution_count": null,
   "id": "42d555fa",
   "metadata": {},
   "outputs": [],
   "source": [
    "news_df['text_preserved'] = news_df['text'].apply(preserve_entities)"
   ]
  },
  {
   "cell_type": "code",
   "execution_count": null,
   "id": "d1307bda",
   "metadata": {},
   "outputs": [
    {
     "data": {
      "text/html": [
       "<div>\n",
       "<style scoped>\n",
       "    .dataframe tbody tr th:only-of-type {\n",
       "        vertical-align: middle;\n",
       "    }\n",
       "\n",
       "    .dataframe tbody tr th {\n",
       "        vertical-align: top;\n",
       "    }\n",
       "\n",
       "    .dataframe thead th {\n",
       "        text-align: right;\n",
       "    }\n",
       "</style>\n",
       "<table border=\"1\" class=\"dataframe\">\n",
       "  <thead>\n",
       "    <tr style=\"text-align: right;\">\n",
       "      <th></th>\n",
       "      <th>category</th>\n",
       "      <th>text</th>\n",
       "      <th>text_preserved</th>\n",
       "    </tr>\n",
       "  </thead>\n",
       "  <tbody>\n",
       "    <tr>\n",
       "      <th>0</th>\n",
       "      <td>tech</td>\n",
       "      <td>tv future in the hands of viewers with home th...</td>\n",
       "      <td>tv future in the hands of viewers with home th...</td>\n",
       "    </tr>\n",
       "    <tr>\n",
       "      <th>1</th>\n",
       "      <td>business</td>\n",
       "      <td>worldcom boss  left books alone  former worldc...</td>\n",
       "      <td>&lt;ORG:&lt;ORG:&lt;ORG:&lt;ORG:&lt;ORG:&lt;ORG:&lt;ORG:&lt;ORG:worldc...</td>\n",
       "    </tr>\n",
       "    <tr>\n",
       "      <th>2</th>\n",
       "      <td>sport</td>\n",
       "      <td>tigers wary of farrell  gamble  leicester say ...</td>\n",
       "      <td>tigers wary of &lt;ORG:&lt;ORG:&lt;PERSON:farrell&gt;&gt;&gt;  g...</td>\n",
       "    </tr>\n",
       "    <tr>\n",
       "      <th>3</th>\n",
       "      <td>sport</td>\n",
       "      <td>yeading face newcastle in fa cup premiership s...</td>\n",
       "      <td>&lt;GPE:yeading&gt; face &lt;GPE:newcastle&gt; in &lt;ORG:fa_...</td>\n",
       "    </tr>\n",
       "    <tr>\n",
       "      <th>4</th>\n",
       "      <td>entertainment</td>\n",
       "      <td>ocean s twelve raids box office ocean s twelve...</td>\n",
       "      <td>ocean s &lt;CARDINAL:&lt;CARDINAL:&lt;CARDINAL:twelve&gt;&gt;...</td>\n",
       "    </tr>\n",
       "  </tbody>\n",
       "</table>\n",
       "</div>"
      ],
      "text/plain": [
       "        category                                               text  \\\n",
       "0           tech  tv future in the hands of viewers with home th...   \n",
       "1       business  worldcom boss  left books alone  former worldc...   \n",
       "2          sport  tigers wary of farrell  gamble  leicester say ...   \n",
       "3          sport  yeading face newcastle in fa cup premiership s...   \n",
       "4  entertainment  ocean s twelve raids box office ocean s twelve...   \n",
       "\n",
       "                                      text_preserved  \n",
       "0  tv future in the hands of viewers with home th...  \n",
       "1  <ORG:<ORG:<ORG:<ORG:<ORG:<ORG:<ORG:<ORG:worldc...  \n",
       "2  tigers wary of <ORG:<ORG:<PERSON:farrell>>>  g...  \n",
       "3  <GPE:yeading> face <GPE:newcastle> in <ORG:fa_...  \n",
       "4  ocean s <CARDINAL:<CARDINAL:<CARDINAL:twelve>>...  "
      ]
     },
     "execution_count": 43,
     "metadata": {},
     "output_type": "execute_result"
    }
   ],
   "source": [
    "news_df.head()"
   ]
  },
  {
   "cell_type": "markdown",
   "id": "d7bed66d",
   "metadata": {},
   "source": [
    "Regex"
   ]
  },
  {
   "cell_type": "code",
   "execution_count": null,
   "id": "c98daf02",
   "metadata": {},
   "outputs": [],
   "source": [
    "def clean_text(text):\n",
    "    \n",
    "    text = re.sub(r'<.*?>', ' ', text)\n",
    "\n",
    "    \n",
    "    text = re.sub(r'http\\S+|www\\S+|https\\S+', ' ', text)\n",
    "\n",
    "    \n",
    "    text = re.sub(r'\\S+@\\S+', ' ', text)\n",
    "\n",
    "    \n",
    "    text = re.sub(r'\\d+', ' ', text)\n",
    "\n",
    "    \n",
    "    text = re.sub(r'[^a-zA-Z\\s<>_:]', ' ', text)  # <ENTITY_TAG>\n",
    "\n",
    "    \n",
    "    text = text.lower()\n",
    "\n",
    "    \n",
    "    text = re.sub(r'\\s+', ' ', text).strip()\n",
    "\n",
    "    return text\n"
   ]
  },
  {
   "cell_type": "code",
   "execution_count": null,
   "id": "0dfdc40b",
   "metadata": {},
   "outputs": [],
   "source": [
    "news_df['text_cleaned'] = news_df['text_preserved'].apply(clean_text)"
   ]
  },
  {
   "cell_type": "code",
   "execution_count": null,
   "id": "26ddad43",
   "metadata": {},
   "outputs": [
    {
     "name": "stdout",
     "output_type": "stream",
     "text": [
      "                                                                                                                                                                                                                                                                                                                                                                                                                                                                                                                                                                                                                                                                                                                                                                                                                                                                                                                                                                                                                                                                                                                                                                                                                                                                                                                                                                                                                                                                                                                                                                                                                                                                                                                                                                                                                                                                                                                                                                                                                                                                                                                                                                                                                                                                                                                                                                                                                                                                                                                                                                                                                                                                                                                                                                                                                 text                                                                                                                                                                                                                                                                                                                                                                                                                                                                                                                                                                                                                                                                                                                                                                                                                                                                                                                                                                                                                                                                                                                                                                                                                                                                                                                                                                                                                                                                                                                                                                                                                                                                                                                                                                                                                                                                                                                                                                                                                                                                                                                                                                                                                                                                                                                                                                                                                                                                                                                                                                                                                                                                                                                                                                                                                                                                                                                                                                                                                                                                                                                                                                                                                 text_preserved                                                                                                                                                                                                                                                                                                                                                                                                                                                                                                                                                                                                                                                                                                                                                                                                                                                                                                                                                                                                                                                                                                                                                                                                                                                                                                                                                                                                                                                                                                                                                                                                                                                                                                                                                                                                                                                                                                                                                                                                                                                                                                                                                                                                                                                                                                                                                                                                                    text_cleaned\n",
      "1910  hospital suspends  no welsh  plan an english hospital has suspended plans to stop treating welsh patients who have waited more than three months.  hereford county hospital had earlier said that from the new year patients waiting longer than this would be taken off waiting lists for hip and knee operations. gps in wales had feared patients could be pushed to the back of another queue. but after talks with powys health board the hospital called off its plan until health chiefs meet early in january. hereford hospital trust caused an outcry when it sent out a letter telling patients that for financial and administrative reasons it planned to turn down some orthopaedic patients. shocked health officials in powys said this meant they would be left with the prospect of patients and doctors having to find new appointments in other hospitals. andy williams  chief executive of powys local health board  had said it was  a totally unacceptable way to behave .  mr williams had said he did not think it was a welsh-english issue  but said hereford hospital was  struggling financially and trying to pass the problem back to powys . he had told bbc radio wales:  i have written straight back to the trust... to insist they withdraw this threat and treat the patients i am paying them to treat.  but after the hospital had agreed to the suspension  mr williams said he was optimistic a compromise could be reached which would ensure welsh patients continued to be treated there. he said the problem had been caused by the difference in waiting time targets between england and wales.  the target is 12 months for welsh patients  but just three months in england. the contract with the powys health board was worth £7m a year for the hospital and accounts for 12% of its patients. in a statement before the suspension of the idea  the welsh assembly government said the situation was  unacceptable .  but powys local health board is committed to ensuring our patients receive the care that is appropriate   said the assembly government.  although we will be challenging hereford s decision we will put in place appropriate care for our patients. they will be contacted by their gps in the next week.  earlier  david rose  chief executive of hereford hospitals nhs trust  had said:  it is with real regret that we have taken this step.  we want to continue providing an excellent and fast service to powys people but can only do this if we are paid to provide the service.  in 2005 our waiting time will fall to a maximum of 6-months and we want powys people to ask to be referred to our modern hospital.  we appeal to powys local health board to allow powys people to choose hereford for their treatment.  hospital suspends  no welsh  plan an <NORP:english> hospital has suspended plans to stop treating welsh patients who have waited <DATE:more_than_three_months>.  <GPE:<ORG:<ORG:hereford>>_county> hospital had earlier said that from <DATE:the_new_year> patients waiting longer than this would be taken off waiting lists for hip and knee operations. <ORG:gps> in <GPE:<GPE:wales>> had feared patients could be pushed to the back of another queue. but after talks with <ORG:<ORG:powys>_health_board_the_hospital> called off its plan until health chiefs meet early in <DATE:january>. <ORG:<ORG:<ORG:hereford>>_hospital_trust> caused an outcry when it sent out a letter telling patients that for financial and administrative reasons it planned to turn down some orthopaedic patients. shocked health officials in <ORG:powys> said this meant they would be left with the prospect of patients and doctors having to find new appointments in other hospitals. <PERSON:andy_<PERSON:<PERSON:williams>>__>chief executive of <ORG:powys> local health board  had said it was  a totally unacceptable way to behave .  mr <PERSON:<PERSON:williams>> had said he did not think it was a welsh-<NORP:english> issue  but said <ORG:<ORG:<ORG:hereford>>_hospital> was  struggling financially and trying to pass the problem back to <ORG:powys> . he had told bbc radio <GPE:<GPE:wales>>:  i have written straight back to the trust... to insist they withdraw this threat and treat the patients i am paying them to treat.  but after the hospital had agreed to the suspension  mr <PERSON:<PERSON:williams>> said he was optimistic a compromise could be reached which would ensure welsh patients continued to be treated there. he said the problem had been caused by the difference in waiting time targets between <GPE:<GPE:england>> and <GPE:<GPE:wales>>.  the target is <DATE:12_months> for welsh patients  but <DATE:just_three_months> in <GPE:<GPE:england>>. the contract with the <ORG:powys> health board was worth £7m a year for the hospital and accounts for <PERCENT:12%> of its patients. in a statement before the suspension of the idea  <ORG:the_welsh_assembly_government> said the situation was  unacceptable .  but <ORG:powys> local health board is committed to ensuring our patients receive the care that is appropriate   said the assembly government.  although we will be challenging <ORG:<ORG:hereford>> s decision we will put in place appropriate care for our patients. they will be contacted by their <ORG:gps> in <DATE:the_next_week>.  earlier  <PERSON:david> rose  chief executive of <ORG:<ORG:<ORG:hereford>>_hospital>s <ORG:nhs> trust  had said:  it is with real regret that we have taken this step.  we want to continue providing an excellent and fast service to <ORG:powys> people but can only do this if we are paid to provide the service.  in <DATE:2005> our waiting time will fall to a maximum of <DATE:6-months> and we want <ORG:powys> people to ask to be referred to our modern hospital.  we appeal to <ORG:powys> local health board to allow <ORG:powys> people to choose <ORG:<ORG:hereford>> for their treatment.  hospital suspends no welsh plan an hospital has suspended plans to stop treating welsh patients who have waited >_county> hospital had earlier said that from patients waiting longer than this would be taken off waiting lists for hip and knee operations in > had feared patients could be pushed to the back of another queue but after talks with _health_board_the_hospital> called off its plan until health chiefs meet early in >_hospital_trust> caused an outcry when it sent out a letter telling patients that for financial and administrative reasons it planned to turn down some orthopaedic patients shocked health officials in said this meant they would be left with the prospect of patients and doctors having to find new appointments in other hospitals >__>chief executive of local health board had said it was a totally unacceptable way to behave mr > had said he did not think it was a welsh issue but said >_hospital> was struggling financially and trying to pass the problem back to he had told bbc radio >: i have written straight back to the trust to insist they withdraw this threat and treat the patients i am paying them to treat but after the hospital had agreed to the suspension mr > said he was optimistic a compromise could be reached which would ensure welsh patients continued to be treated there he said the problem had been caused by the difference in waiting time targets between > and > the target is for welsh patients but in > the contract with the health board was worth m a year for the hospital and accounts for of its patients in a statement before the suspension of the idea said the situation was unacceptable but local health board is committed to ensuring our patients receive the care that is appropriate said the assembly government although we will be challenging > s decision we will put in place appropriate care for our patients they will be contacted by their in earlier rose chief executive of >_hospital>s trust had said: it is with real regret that we have taken this step we want to continue providing an excellent and fast service to people but can only do this if we are paid to provide the service in our waiting time will fall to a maximum of and we want people to ask to be referred to our modern hospital we appeal to local health board to allow people to choose > for their treatment\n"
     ]
    }
   ],
   "source": [
    "print(news_df[['text', 'text_preserved', 'text_cleaned']].sample(1).to_string())"
   ]
  },
  {
   "cell_type": "code",
   "execution_count": null,
   "id": "e4b934df",
   "metadata": {},
   "outputs": [
    {
     "data": {
      "text/html": [
       "<div>\n",
       "<style scoped>\n",
       "    .dataframe tbody tr th:only-of-type {\n",
       "        vertical-align: middle;\n",
       "    }\n",
       "\n",
       "    .dataframe tbody tr th {\n",
       "        vertical-align: top;\n",
       "    }\n",
       "\n",
       "    .dataframe thead th {\n",
       "        text-align: right;\n",
       "    }\n",
       "</style>\n",
       "<table border=\"1\" class=\"dataframe\">\n",
       "  <thead>\n",
       "    <tr style=\"text-align: right;\">\n",
       "      <th></th>\n",
       "      <th>category</th>\n",
       "      <th>text</th>\n",
       "      <th>text_preserved</th>\n",
       "      <th>text_cleaned</th>\n",
       "    </tr>\n",
       "  </thead>\n",
       "  <tbody>\n",
       "    <tr>\n",
       "      <th>0</th>\n",
       "      <td>tech</td>\n",
       "      <td>tv future in the hands of viewers with home th...</td>\n",
       "      <td>tv future in the hands of viewers with home th...</td>\n",
       "      <td>tv future in the hands of viewers with home th...</td>\n",
       "    </tr>\n",
       "    <tr>\n",
       "      <th>1</th>\n",
       "      <td>business</td>\n",
       "      <td>worldcom boss  left books alone  former worldc...</td>\n",
       "      <td>&lt;ORG:&lt;ORG:&lt;ORG:&lt;ORG:&lt;ORG:&lt;ORG:&lt;ORG:&lt;ORG:worldc...</td>\n",
       "      <td>&gt;&gt;&gt;&gt;&gt;&gt;&gt; boss left books alone former &gt;&gt;&gt;&gt;&gt;&gt;&gt; b...</td>\n",
       "    </tr>\n",
       "    <tr>\n",
       "      <th>2</th>\n",
       "      <td>sport</td>\n",
       "      <td>tigers wary of farrell  gamble  leicester say ...</td>\n",
       "      <td>tigers wary of &lt;ORG:&lt;ORG:&lt;PERSON:farrell&gt;&gt;&gt;  g...</td>\n",
       "      <td>tigers wary of &gt;&gt; gamble &gt; say they will not b...</td>\n",
       "    </tr>\n",
       "    <tr>\n",
       "      <th>3</th>\n",
       "      <td>sport</td>\n",
       "      <td>yeading face newcastle in fa cup premiership s...</td>\n",
       "      <td>&lt;GPE:yeading&gt; face &lt;GPE:newcastle&gt; in &lt;ORG:fa_...</td>\n",
       "      <td>face in premiership side united face a trip to...</td>\n",
       "    </tr>\n",
       "    <tr>\n",
       "      <th>4</th>\n",
       "      <td>entertainment</td>\n",
       "      <td>ocean s twelve raids box office ocean s twelve...</td>\n",
       "      <td>ocean s &lt;CARDINAL:&lt;CARDINAL:&lt;CARDINAL:twelve&gt;&gt;...</td>\n",
       "      <td>ocean s &gt;&gt; raids box office ocean s &gt;&gt; the cri...</td>\n",
       "    </tr>\n",
       "  </tbody>\n",
       "</table>\n",
       "</div>"
      ],
      "text/plain": [
       "        category                                               text  \\\n",
       "0           tech  tv future in the hands of viewers with home th...   \n",
       "1       business  worldcom boss  left books alone  former worldc...   \n",
       "2          sport  tigers wary of farrell  gamble  leicester say ...   \n",
       "3          sport  yeading face newcastle in fa cup premiership s...   \n",
       "4  entertainment  ocean s twelve raids box office ocean s twelve...   \n",
       "\n",
       "                                      text_preserved  \\\n",
       "0  tv future in the hands of viewers with home th...   \n",
       "1  <ORG:<ORG:<ORG:<ORG:<ORG:<ORG:<ORG:<ORG:worldc...   \n",
       "2  tigers wary of <ORG:<ORG:<PERSON:farrell>>>  g...   \n",
       "3  <GPE:yeading> face <GPE:newcastle> in <ORG:fa_...   \n",
       "4  ocean s <CARDINAL:<CARDINAL:<CARDINAL:twelve>>...   \n",
       "\n",
       "                                        text_cleaned  \n",
       "0  tv future in the hands of viewers with home th...  \n",
       "1  >>>>>>> boss left books alone former >>>>>>> b...  \n",
       "2  tigers wary of >> gamble > say they will not b...  \n",
       "3  face in premiership side united face a trip to...  \n",
       "4  ocean s >> raids box office ocean s >> the cri...  "
      ]
     },
     "execution_count": 47,
     "metadata": {},
     "output_type": "execute_result"
    }
   ],
   "source": [
    "news_df.head()"
   ]
  },
  {
   "cell_type": "markdown",
   "id": "d85d113c",
   "metadata": {},
   "source": [
    "Normalizing"
   ]
  },
  {
   "cell_type": "code",
   "execution_count": null,
   "id": "14c4c4e5",
   "metadata": {},
   "outputs": [],
   "source": [
    "def normalize_text(text):\n",
    "    text = text.lower()\n",
    "    text = re.sub(r'[^a-zA-Z0-9\\s]', '', text)  \n",
    "    return text\n"
   ]
  },
  {
   "cell_type": "markdown",
   "id": "16279828",
   "metadata": {},
   "source": [
    "Lemmatization"
   ]
  },
  {
   "cell_type": "code",
   "execution_count": null,
   "id": "abcc10d6",
   "metadata": {},
   "outputs": [],
   "source": [
    "def lemmatize_text(text):\n",
    "    doc = nlp(text)\n",
    "    return ' '.join([token.lemma_ for token in doc if not token.is_stop])\n"
   ]
  },
  {
   "cell_type": "markdown",
   "id": "9aba4eec",
   "metadata": {},
   "source": [
    "Text Process"
   ]
  },
  {
   "cell_type": "code",
   "execution_count": null,
   "id": "c6138a19",
   "metadata": {},
   "outputs": [],
   "source": [
    "news_df['clean_text'] = news_df['text'].apply(preserve_entities)\n",
    "news_df['clean_text'] = news_df['clean_text'].apply(normalize_text)\n",
    "news_df['clean_text'] = news_df['clean_text'].apply(lemmatize_text)\n",
    "\n"
   ]
  },
  {
   "cell_type": "markdown",
   "id": "d26d6901",
   "metadata": {},
   "source": [
    "Type Correction"
   ]
  },
  {
   "cell_type": "code",
   "execution_count": null,
   "id": "98cf85fe",
   "metadata": {},
   "outputs": [],
   "source": [
    "def correct_typos(text, vocab, threshold=90):\n",
    "    corrected_words = []\n",
    "    for word in text.split():\n",
    "        if word in vocab or word.startswith(\"<\") or word.endswith(\">\"):\n",
    "            corrected_words.append(word)\n",
    "        else:\n",
    "            match, score, _ = process.extractOne(word, vocab)\n",
    "            if score >= threshold:\n",
    "                corrected_words.append(match)\n",
    "            else:\n",
    "                corrected_words.append(word)\n",
    "    return ' '.join(corrected_words)\n"
   ]
  },
  {
   "cell_type": "markdown",
   "id": "81f0454c",
   "metadata": {},
   "source": [
    "Count Vectorizer"
   ]
  },
  {
   "cell_type": "code",
   "execution_count": null,
   "id": "50c7a3a8",
   "metadata": {},
   "outputs": [],
   "source": [
    "vectorizer_vocab = CountVectorizer(min_df=5)\n",
    "vectorizer_vocab.fit(news_df['clean_text'])\n",
    "vocab = set(vectorizer_vocab.get_feature_names_out())\n"
   ]
  },
  {
   "cell_type": "code",
   "execution_count": null,
   "id": "2cb24abd",
   "metadata": {},
   "outputs": [],
   "source": [
    "news_df['clean_text'] = news_df['clean_text'].apply(lambda text: correct_typos(text, vocab))"
   ]
  },
  {
   "cell_type": "markdown",
   "id": "fa062b64",
   "metadata": {},
   "source": [
    "TF-IDF"
   ]
  },
  {
   "cell_type": "code",
   "execution_count": null,
   "id": "3c17958a",
   "metadata": {},
   "outputs": [],
   "source": [
    "vectorizer = TfidfVectorizer(\n",
    "    ngram_range=(1, 3),\n",
    "    max_df=0.80,\n",
    "    min_df=3,\n",
    "    max_features=8000,\n",
    "    sublinear_tf=True,\n",
    "    stop_words='english'\n",
    ")\n",
    "X_tfidf = vectorizer.fit_transform(news_df['clean_text'])\n",
    "\n",
    "\n",
    "y = news_df['category']"
   ]
  },
  {
   "cell_type": "code",
   "execution_count": null,
   "id": "1bd1fc16",
   "metadata": {},
   "outputs": [
    {
     "name": "stdout",
     "output_type": "stream",
     "text": [
      "TF-IDF shape: (2225, 8000)\n",
      "Sample feature names: ['000' '000 cream' '000 job' '000 new' '000 people' '000 staff' '10' '100'\n",
      " '11' '12']\n"
     ]
    }
   ],
   "source": [
    "print(\"TF-IDF shape:\", X_tfidf.shape)\n",
    "print(\"Sample feature names:\", vectorizer.get_feature_names_out()[:10])\n"
   ]
  },
  {
   "cell_type": "markdown",
   "id": "215d610d",
   "metadata": {},
   "source": [
    "Splitting and Naive Bayes Algorithm"
   ]
  },
  {
   "cell_type": "code",
   "execution_count": null,
   "id": "5f2f166e",
   "metadata": {},
   "outputs": [
    {
     "name": "stdout",
     "output_type": "stream",
     "text": [
      "Classification Report:\n",
      "                precision    recall  f1-score   support\n",
      "\n",
      "     business       0.92      0.94      0.93       101\n",
      "entertainment       1.00      0.89      0.94        81\n",
      "     politics       0.92      0.99      0.95        83\n",
      "        sport       0.98      1.00      0.99        98\n",
      "         tech       0.95      0.94      0.94        82\n",
      "\n",
      "     accuracy                           0.95       445\n",
      "    macro avg       0.95      0.95      0.95       445\n",
      " weighted avg       0.95      0.95      0.95       445\n",
      "\n"
     ]
    }
   ],
   "source": [
    "X_train, X_test, y_train, y_test = train_test_split(X_tfidf, y, test_size = 0.2, random_state = 42)\n",
    "\n",
    "nb_model = MultinomialNB()\n",
    "nb_model.fit(X_train, y_train)\n",
    "\n",
    "y_pred = nb_model.predict(X_test)\n",
    "\n",
    "print(\"Classification Report:\\n\", classification_report(y_test, y_pred))"
   ]
  },
  {
   "cell_type": "markdown",
   "id": "29c4a20f",
   "metadata": {},
   "source": [
    "Confusion Matrix"
   ]
  },
  {
   "cell_type": "code",
   "execution_count": null,
   "id": "399b1046",
   "metadata": {},
   "outputs": [
    {
     "data": {
      "image/png": "[encoded data removed]",
      "text/plain": [
       "<Figure size 800x600 with 2 Axes>"
      ]
     },
     "metadata": {},
     "output_type": "display_data"
    }
   ],
   "source": [
    "labels = sorted(news_df['category'].unique())\n",
    "cm = confusion_matrix(y_test, y_pred, labels=labels)\n",
    "\n",
    "plt.figure(figsize=(8,6))\n",
    "sns.heatmap(cm, annot=True, fmt='d', cmap='Blues', xticklabels=labels, yticklabels=labels)\n",
    "plt.xlabel('Predicted')\n",
    "plt.ylabel('Actual')\n",
    "plt.title('Confusion Matrix - Naive Bayes')\n",
    "plt.show()"
   ]
  },
  {
   "cell_type": "markdown",
   "id": "4a9ece5c",
   "metadata": {},
   "source": [
    "Top Features for Each Category"
   ]
  },
  {
   "cell_type": "code",
   "execution_count": null,
   "id": "159bde0a",
   "metadata": {},
   "outputs": [
    {
     "name": "stdout",
     "output_type": "stream",
     "text": [
      "\n",
      "Top features for 'business':\n",
      "sale, analyst, economy, price, rise, growth, share, market, firm, company\n",
      "\n",
      "Top features for 'entertainment':\n",
      "album, singer, band, good, actor, include, award, star, son, film\n",
      "\n",
      "Top features for 'politics':\n",
      "leader, plan, people, son, labour, minister, party, government, election, mr\n",
      "\n",
      "Top features for 'sport':\n",
      "team, cream, match, connect, player, person, play, game, win, son\n",
      "\n",
      "Top features for 'tech':\n",
      "use, online, net, service, mobile, user, software, computer, technology, people\n"
     ]
    }
   ],
   "source": [
    "def show_top_features_nb(classifier, vectorizer, class_labels, n=10):\n",
    "    feature_names = vectorizer.get_feature_names_out()\n",
    "    for i, class_label in enumerate(class_labels):\n",
    "        top_indices = np.argsort(classifier.feature_log_prob_[i])[-n:]\n",
    "        top_features = [feature_names[j] for j in top_indices]\n",
    "        print(f\"\\nTop features for '{class_label}':\")\n",
    "        print(\", \".join(top_features))\n",
    "show_top_features_nb(nb_model, vectorizer, nb_model.classes_)\n"
   ]
  },
  {
   "cell_type": "code",
   "execution_count": null,
   "id": "14768f70",
   "metadata": {},
   "outputs": [],
   "source": [
    "from sklearn.model_selection import GridSearchCV\n",
    "from sklearn.pipeline import Pipeline\n",
    "from sklearn.linear_model import LogisticRegression\n",
    "from sklearn.tree import DecisionTreeClassifier\n",
    "from sklearn.svm import LinearSVC\n",
    "from sklearn.neural_network import MLPClassifier\n",
    "from sklearn.ensemble import VotingClassifier, RandomForestClassifier\n",
    "from sklearn.model_selection import StratifiedKFold"
   ]
  },
  {
   "cell_type": "markdown",
   "id": "b31766b0",
   "metadata": {},
   "source": [
    "Cross Validation"
   ]
  },
  {
   "cell_type": "code",
   "execution_count": null,
   "id": "c05002d1",
   "metadata": {},
   "outputs": [],
   "source": [
    "cv_strategy = StratifiedKFold(n_splits=5, shuffle=True, random_state=42)\n"
   ]
  },
  {
   "cell_type": "markdown",
   "id": "a080ab5c",
   "metadata": {},
   "source": [
    "Hyperparameter Tuning"
   ]
  },
  {
   "cell_type": "code",
   "execution_count": null,
   "id": "db815e5b",
   "metadata": {},
   "outputs": [],
   "source": [
    "models = {\n",
    "    \"LogisticRegression\": (LogisticRegression(max_iter=1000), [\n",
    "        {\n",
    "            'clf__C': [0.01, 0.1, 1, 10],\n",
    "            'clf__penalty': ['l1', 'l2'],\n",
    "            'clf__solver': ['liblinear']\n",
    "        },\n",
    "        {\n",
    "            'clf__C': [0.01, 0.1, 1, 10],\n",
    "            'clf__penalty': ['elasticnet'],\n",
    "            'clf__solver': ['saga'],\n",
    "            'clf__l1_ratio': [0.2, 0.5, 0.8]\n",
    "        }\n",
    "    ]),\n",
    "    \n",
    "    \"DecisionTree\": (DecisionTreeClassifier(random_state=42), {\n",
    "        \"clf__max_depth\": [5, 10, 15, 20],\n",
    "        \"clf__min_samples_split\": [5, 10, 20],\n",
    "        \"clf__min_samples_leaf\": [2, 5, 10],\n",
    "        \"clf__max_features\": ['sqrt', 'log2', None]\n",
    "    }),\n",
    "    \n",
    "    \"SVM\": (LinearSVC(max_iter=10000, random_state=42), {\n",
    "        \"clf__C\": [0.01, 0.1, 1, 10],\n",
    "        \"clf__penalty\": ['l1', 'l2'],\n",
    "        \"clf__dual\": [False]\n",
    "    }),\n",
    "    \n",
    "    \"MLP\": (MLPClassifier(max_iter=500, random_state=42), {\n",
    "        \"clf__hidden_layer_sizes\": [(50,), (100,), (100, 50)],\n",
    "        \"clf__alpha\": [0.001, 0.01, 0.1],\n",
    "        \"clf__validation_fraction\": [0.1]\n",
    "    })\n",
    "}\n"
   ]
  },
  {
   "cell_type": "markdown",
   "id": "8a484516",
   "metadata": {},
   "source": [
    "Voting Ensemble (Logistic Regression + Support Vector Machine + Random Forest)"
   ]
  },
  {
   "cell_type": "code",
   "execution_count": null,
   "id": "c1c4f701",
   "metadata": {},
   "outputs": [],
   "source": [
    "log_reg = LogisticRegression(C=1, penalty='l2', max_iter=1000)\n",
    "svm = LinearSVC(C=0.1, max_iter=10000)\n",
    "rf = RandomForestClassifier(n_estimators=100, max_depth=15, \n",
    "                            min_samples_split=10, random_state=42)\n",
    "\n",
    "voting_ensemble = VotingClassifier(\n",
    "    estimators=[('lr', log_reg), ('svm', svm), ('rf', rf)],\n",
    "    voting='hard'\n",
    ")\n",
    "\n",
    "models[\"RandomForest\"] = (RandomForestClassifier(random_state=42), {\n",
    "    \"clf__n_estimators\": [50, 100],\n",
    "    \"clf__max_depth\": [10, 15, 20],\n",
    "    \"clf__min_samples_split\": [5, 10],\n",
    "    \"clf__min_samples_leaf\": [2, 5]\n",
    "})\n",
    "\n",
    "models[\"VotingEnsemble\"] = (voting_ensemble, {})\n"
   ]
  },
  {
   "cell_type": "markdown",
   "id": "b813b55c",
   "metadata": {},
   "source": [
    "Modeling with Hyperparameter Tuning"
   ]
  },
  {
   "cell_type": "code",
   "execution_count": null,
   "id": "d2aeb23d",
   "metadata": {},
   "outputs": [
    {
     "name": "stdout",
     "output_type": "stream",
     "text": [
      "\n",
      "Training and tuning LogisticRegression...\n",
      "Fitting 5 folds for each of 20 candidates, totalling 100 fits\n",
      "LogisticRegression\n",
      "  - CV Score: 0.9822 (+/- 0.0082)\n",
      "  - Training Accuracy: 1.0000\n",
      "  - Testing Accuracy : 0.9663\n",
      "  - Gap: 0.0337\n",
      "  - Best Params: {'clf__C': 10, 'clf__l1_ratio': 0.5, 'clf__penalty': 'elasticnet', 'clf__solver': 'saga'}\n",
      "\n",
      "Training and tuning DecisionTree...\n",
      "Fitting 5 folds for each of 108 candidates, totalling 540 fits\n",
      "DecisionTree\n",
      "  - CV Score: 0.8007 (+/- 0.0335)\n",
      "  - Training Accuracy: 0.9331\n",
      "  - Testing Accuracy : 0.7685\n",
      "  - Gap: 0.1646\n",
      "  - Best Params: {'clf__max_depth': 20, 'clf__max_features': None, 'clf__min_samples_leaf': 2, 'clf__min_samples_split': 20}\n",
      "\n",
      "Training and tuning SVM...\n",
      "Fitting 5 folds for each of 8 candidates, totalling 40 fits\n",
      "SVM\n",
      "  - CV Score: 0.9850 (+/- 0.0101)\n",
      "  - Training Accuracy: 1.0000\n",
      "  - Testing Accuracy : 0.9551\n",
      "  - Gap: 0.0449\n",
      "  - Best Params: {'clf__C': 1, 'clf__dual': False, 'clf__penalty': 'l2'}\n",
      "\n",
      "Training and tuning MLP...\n",
      "Fitting 5 folds for each of 9 candidates, totalling 45 fits\n",
      "MLP\n",
      "  - CV Score: 0.9848 (+/- 0.0092)\n",
      "  - Training Accuracy: 1.0000\n",
      "  - Testing Accuracy : 0.9640\n",
      "  - Gap: 0.0360\n",
      "  - Best Params: {'clf__alpha': 0.1, 'clf__hidden_layer_sizes': (100, 50), 'clf__validation_fraction': 0.1}\n",
      "\n",
      "Training and tuning RandomForest...\n",
      "Fitting 5 folds for each of 24 candidates, totalling 120 fits\n",
      "RandomForest\n",
      "  - CV Score: 0.9540 (+/- 0.0141)\n",
      "  - Training Accuracy: 0.9978\n",
      "  - Testing Accuracy : 0.9281\n",
      "  - Gap: 0.0697\n",
      "  - Best Params: {'clf__max_depth': 20, 'clf__min_samples_leaf': 2, 'clf__min_samples_split': 10, 'clf__n_estimators': 100}\n",
      "\n",
      "Training and tuning VotingEnsemble...\n",
      "Fitting 5 folds for each of 1 candidates, totalling 5 fits\n",
      "VotingEnsemble\n",
      "  - CV Score: 0.9782 (+/- 0.0059)\n",
      "  - Training Accuracy: 0.9972\n",
      "  - Testing Accuracy : 0.9573\n",
      "  - Gap: 0.0399\n",
      "  - Best Params: {}\n"
     ]
    }
   ],
   "source": [
    "from sklearn.model_selection import cross_val_score\n",
    "\n",
    "results = {}\n",
    "\n",
    "for name, (model, param_grid) in models.items():\n",
    "    print(f\"\\nTraining and tuning {name}...\")\n",
    "    pipeline = Pipeline([('clf', model)])\n",
    "    \n",
    "    grid = GridSearchCV(\n",
    "        pipeline, \n",
    "        param_grid, \n",
    "        cv=cv_strategy, \n",
    "        scoring='f1_macro',\n",
    "        n_jobs=-1,\n",
    "        verbose=1\n",
    "    )\n",
    "    \n",
    "    grid.fit(X_train, y_train)\n",
    "    best_model = grid.best_estimator_\n",
    "    \n",
    "    cv_scores = cross_val_score(best_model, X_train, y_train, \n",
    "                                cv=cv_strategy, scoring='f1_macro')\n",
    "\n",
    "    y_train_pred = best_model.predict(X_train)\n",
    "    y_test_pred = best_model.predict(X_test)\n",
    "\n",
    "    train_acc = accuracy_score(y_train, y_train_pred)\n",
    "    test_acc = accuracy_score(y_test, y_test_pred)\n",
    "    cv_mean = cv_scores.mean()\n",
    "    cv_std = cv_scores.std()\n",
    "\n",
    "    print(f\"{name}\")\n",
    "    print(f\"  - CV Score: {cv_mean:.4f} (+/- {cv_std * 2:.4f})\")\n",
    "    print(f\"  - Training Accuracy: {train_acc:.4f}\")\n",
    "    print(f\"  - Testing Accuracy : {test_acc:.4f}\")\n",
    "    print(f\"  - Gap: {train_acc - test_acc:.4f}\")\n",
    "    print(f\"  - Best Params: {grid.best_params_}\")\n",
    "\n",
    "    results[name] = {\n",
    "        'model': best_model,\n",
    "        'train_acc': train_acc,\n",
    "        'test_acc': test_acc,\n",
    "        'cv_score': cv_mean,\n",
    "        'cv_std': cv_std,\n",
    "        'acc_gap': train_acc - test_acc,\n",
    "        'params': grid.best_params_\n",
    "    }\n"
   ]
  },
  {
   "cell_type": "markdown",
   "id": "c6174734",
   "metadata": {},
   "source": [
    "Conclusion\n",
    "\n",
    "Best performer: Logistic Regression (high accuracy + lowest gap)\n",
    "\n",
    "Runner-up: SVM (close performance, thoda zyada gap)\n",
    "\n",
    "Worst: Decision Tree (NLP ke liye weak choice)"
   ]
  },
  {
   "cell_type": "markdown",
   "id": "7fd4a8c9",
   "metadata": {},
   "source": [
    "Model Accuracy Comparison"
   ]
  },
  {
   "cell_type": "code",
   "execution_count": null,
   "id": "0e402579",
   "metadata": {},
   "outputs": [
    {
     "data": {
      "image/png": "[encoded data removed]",
      "text/plain": [
       "<Figure size 800x500 with 1 Axes>"
      ]
     },
     "metadata": {},
     "output_type": "display_data"
    }
   ],
   "source": [
    "names = list(results.keys())\n",
    "accuracies = [results[name]['test_acc'] for name in names] \n",
    "\n",
    "plt.figure(figsize=(8, 5))\n",
    "plt.bar(names, accuracies, color='skyblue')\n",
    "plt.ylabel(\"Test Accuracy\")\n",
    "plt.title(\"Model Comparison (Test Set)\")\n",
    "plt.ylim(0.8, 1.0)\n",
    "plt.grid(True, axis='y')\n",
    "plt.show()\n"
   ]
  },
  {
   "cell_type": "markdown",
   "id": "0f75dd5a",
   "metadata": {},
   "source": [
    "Model Training and Test Accuracy Comparison"
   ]
  },
  {
   "cell_type": "code",
   "execution_count": null,
   "id": "adb8dc44",
   "metadata": {},
   "outputs": [
    {
     "data": {
      "image/png": "[encoded data removed]",
      "text/plain": [
       "<Figure size 1000x600 with 1 Axes>"
      ]
     },
     "metadata": {},
     "output_type": "display_data"
    }
   ],
   "source": [
    "model_names = list(results.keys())\n",
    "train_scores = [results[m]['train_acc'] for m in model_names]\n",
    "test_scores = [results[m]['test_acc'] for m in model_names]\n",
    "gaps = [results[m]['acc_gap'] for m in model_names]\n",
    "\n",
    "plt.figure(figsize=(10, 6))\n",
    "bar_width = 0.35\n",
    "x = range(len(model_names))\n",
    "\n",
    "plt.bar(x, train_scores, width=bar_width, label='Train Accuracy')\n",
    "plt.bar([i + bar_width for i in x], test_scores, width=bar_width, label='Test Accuracy')\n",
    "plt.xticks([i + bar_width / 2 for i in x], model_names)\n",
    "plt.ylim(0.6, 1.0)\n",
    "plt.title('Train vs Test Accuracy (Overfitting Check)')\n",
    "plt.xlabel('Model')\n",
    "plt.ylabel('Accuracy')\n",
    "plt.legend()\n",
    "plt.grid(True, axis='y')\n",
    "plt.show()\n"
   ]
  },
  {
   "cell_type": "markdown",
   "id": "5ff3b38d",
   "metadata": {},
   "source": [
    "Classification Report"
   ]
  },
  {
   "cell_type": "code",
   "execution_count": null,
   "id": "bfd08b2a",
   "metadata": {},
   "outputs": [
    {
     "name": "stdout",
     "output_type": "stream",
     "text": [
      "\n",
      "==============================\n",
      "Classification Reports\n",
      "==============================\n",
      "\n",
      "Model: LogisticRegression\n",
      "               precision    recall  f1-score   support\n",
      "\n",
      "     business       0.94      0.95      0.95       101\n",
      "entertainment       1.00      0.94      0.97        81\n",
      "     politics       0.93      0.98      0.95        83\n",
      "        sport       0.99      1.00      0.99        98\n",
      "         tech       0.98      0.96      0.97        82\n",
      "\n",
      "     accuracy                           0.97       445\n",
      "    macro avg       0.97      0.97      0.97       445\n",
      " weighted avg       0.97      0.97      0.97       445\n",
      "\n",
      "\n",
      "Model: DecisionTree\n",
      "               precision    recall  f1-score   support\n",
      "\n",
      "     business       0.73      0.75      0.74       101\n",
      "entertainment       0.70      0.72      0.71        81\n",
      "     politics       0.80      0.77      0.79        83\n",
      "        sport       0.86      0.88      0.87        98\n",
      "         tech       0.74      0.71      0.72        82\n",
      "\n",
      "     accuracy                           0.77       445\n",
      "    macro avg       0.77      0.76      0.77       445\n",
      " weighted avg       0.77      0.77      0.77       445\n",
      "\n",
      "\n",
      "Model: SVM\n",
      "               precision    recall  f1-score   support\n",
      "\n",
      "     business       0.94      0.89      0.91       101\n",
      "entertainment       0.99      0.94      0.96        81\n",
      "     politics       0.93      0.99      0.96        83\n",
      "        sport       0.98      1.00      0.99        98\n",
      "         tech       0.94      0.96      0.95        82\n",
      "\n",
      "     accuracy                           0.96       445\n",
      "    macro avg       0.96      0.96      0.96       445\n",
      " weighted avg       0.96      0.96      0.95       445\n",
      "\n",
      "\n",
      "Model: MLP\n",
      "               precision    recall  f1-score   support\n",
      "\n",
      "     business       0.96      0.92      0.94       101\n",
      "entertainment       1.00      0.95      0.97        81\n",
      "     politics       0.93      0.99      0.96        83\n",
      "        sport       0.99      1.00      0.99        98\n",
      "         tech       0.94      0.96      0.95        82\n",
      "\n",
      "     accuracy                           0.96       445\n",
      "    macro avg       0.96      0.96      0.96       445\n",
      " weighted avg       0.96      0.96      0.96       445\n",
      "\n",
      "\n",
      "Model: RandomForest\n",
      "               precision    recall  f1-score   support\n",
      "\n",
      "     business       0.88      0.89      0.89       101\n",
      "entertainment       0.99      0.86      0.92        81\n",
      "     politics       0.90      0.95      0.92        83\n",
      "        sport       0.94      1.00      0.97        98\n",
      "         tech       0.95      0.93      0.94        82\n",
      "\n",
      "     accuracy                           0.93       445\n",
      "    macro avg       0.93      0.93      0.93       445\n",
      " weighted avg       0.93      0.93      0.93       445\n",
      "\n",
      "\n",
      "Model: VotingEnsemble\n",
      "               precision    recall  f1-score   support\n",
      "\n",
      "     business       0.93      0.93      0.93       101\n",
      "entertainment       1.00      0.91      0.95        81\n",
      "     politics       0.92      0.99      0.95        83\n",
      "        sport       0.99      1.00      0.99        98\n",
      "         tech       0.95      0.95      0.95        82\n",
      "\n",
      "     accuracy                           0.96       445\n",
      "    macro avg       0.96      0.96      0.96       445\n",
      " weighted avg       0.96      0.96      0.96       445\n",
      "\n"
     ]
    }
   ],
   "source": [
    "from sklearn.metrics import classification_report\n",
    "\n",
    "print(\"\\n\" + \"=\"*30)\n",
    "print(\"Classification Reports\")\n",
    "print(\"=\"*30)\n",
    "\n",
    "for name, data in results.items():\n",
    "    model = data['model']\n",
    "    y_pred = model.predict(X_test)\n",
    "\n",
    "    print(f\"\\nModel: {name}\")\n",
    "    print(classification_report(y_test, y_pred))\n"
   ]
  },
  {
   "cell_type": "markdown",
   "id": "5ce8450a",
   "metadata": {},
   "source": [
    "1. Logistic Regression\n",
    "\n",
    "Accuracy: 97% → The model is predicting very well overall.\n",
    "\n",
    "Precision & Recall:\n",
    "\n",
    "All categories are above 0.94 → Few false positives and false negatives.\n",
    "\n",
    "“Sport” has perfect recall and almost perfect precision → the model predicts sports news extremely well.\n",
    "\n",
    "Conclusion: Logistic Regression is performing consistently strong across all categories. Very reliable.\n",
    "\n",
    "2. Decision Tree\n",
    "\n",
    "Accuracy: 98% → Slightly higher than Logistic Regression, but we need to check class-wise performance.\n",
    "\n",
    "Precision & Recall:\n",
    "\n",
    "“Entertainment” has lower recall (0.68) → model misses some entertainment news.\n",
    "\n",
    "“Politics” and “Business” are decent but slightly lower than Logistic Regression.\n",
    "\n",
    "<!-- Conclusion: Decision Tree achieves high overall accuracy, but the performance varies more between classes. Logistic Regression is more balanced across categories. -->"
   ]
  },
  {
   "cell_type": "markdown",
   "id": "4e00616b",
   "metadata": {},
   "source": [
    "Learning Curve"
   ]
  },
  {
   "cell_type": "code",
   "execution_count": null,
   "id": "406e162b",
   "metadata": {},
   "outputs": [
    {
     "data": {
      "image/png": "[encoded data removed]",
      "text/plain": [
       "<Figure size 1000x600 with 1 Axes>"
      ]
     },
     "metadata": {},
     "output_type": "display_data"
    },
    {
     "name": "stdout",
     "output_type": "stream",
     "text": [
      "\n",
      "Best model: LogisticRegression with test accuracy: 0.9663\n"
     ]
    }
   ],
   "source": [
    "from sklearn.model_selection import learning_curve\n",
    "\n",
    "def plot_learning_curves(model, X, y, title):\n",
    "    train_sizes, train_scores, val_scores = learning_curve(\n",
    "        model, X, y, cv=5, n_jobs=-1, \n",
    "        train_sizes=np.linspace(0.1, 1.0, 10),\n",
    "        scoring='f1_macro'\n",
    "    )\n",
    "    \n",
    "    plt.figure(figsize=(10, 6))\n",
    "    plt.plot(train_sizes, np.mean(train_scores, axis=1), 'o-', label='Training Score')\n",
    "    plt.plot(train_sizes, np.mean(val_scores, axis=1), 'o-', label='Validation Score')\n",
    "    plt.fill_between(train_sizes, np.mean(train_scores, axis=1) - np.std(train_scores, axis=1),\n",
    "                     np.mean(train_scores, axis=1) + np.std(train_scores, axis=1), alpha=0.1)\n",
    "    plt.fill_between(train_sizes, np.mean(val_scores, axis=1) - np.std(val_scores, axis=1),\n",
    "                     np.mean(val_scores, axis=1) + np.std(val_scores, axis=1), alpha=0.1)\n",
    "    plt.xlabel('Training Set Size')\n",
    "    plt.ylabel('F1 Score')\n",
    "    plt.title(f'Learning Curves - {title}')\n",
    "    plt.legend()\n",
    "    plt.grid(True)\n",
    "    plt.show()\n",
    "\n",
    "best_model_name = max(results.keys(), key=lambda k: results[k]['test_acc'])\n",
    "best_model = results[best_model_name]['model']\n",
    "plot_learning_curves(best_model, X_train, y_train, best_model_name)\n",
    "\n",
    "print(f\"\\nBest model: {best_model_name} with test accuracy: {results[best_model_name]['test_acc']:.4f}\")\n"
   ]
  },
  {
   "cell_type": "code",
   "execution_count": null,
   "id": "a82079b1",
   "metadata": {},
   "outputs": [
    {
     "ename": "NameError",
     "evalue": "name 'vectorizer' is not defined",
     "output_type": "error",
     "traceback": [
      "\u001b[31m---------------------------------------------------------------------------\u001b[39m",
      "\u001b[31mNameError\u001b[39m                                 Traceback (most recent call last)",
      "\u001b[36mCell\u001b[39m\u001b[36m \u001b[39m\u001b[32mIn[1]\u001b[39m\u001b[32m, line 3\u001b[39m\n\u001b[32m      1\u001b[39m \u001b[38;5;28;01mimport\u001b[39;00m\u001b[38;5;250m \u001b[39m\u001b[34;01mjoblib\u001b[39;00m\n\u001b[32m----> \u001b[39m\u001b[32m3\u001b[39m joblib.dump(\u001b[43mvectorizer\u001b[49m, \u001b[33m\"\u001b[39m\u001b[33mtfidf_vectorizer.pkl\u001b[39m\u001b[33m\"\u001b[39m)\n\u001b[32m      4\u001b[39m joblib.dump(results[\u001b[33m\"\u001b[39m\u001b[33mVotingEnsemble\u001b[39m\u001b[33m\"\u001b[39m][\u001b[33m\"\u001b[39m\u001b[33mmodel\u001b[39m\u001b[33m\"\u001b[39m], \u001b[33m\"\u001b[39m\u001b[33mnews_classifier.pkl\u001b[39m\u001b[33m\"\u001b[39m)\n",
      "\u001b[31mNameError\u001b[39m: name 'vectorizer' is not defined"
     ]
    }
   ],
   "source": [
    "import joblib\n",
    "\n",
    "joblib.dump(vectorizer, \"tfidf_vectorizer.pkl\")\n",
    "joblib.dump(results[\"VotingEnsemble\"][\"model\"], \"news_classifier.pkl\")\n"
   ]
  },
  {
   "cell_type": "code",
   "execution_count": null,
   "id": "258e6a8b",
   "metadata": {},
   "outputs": [],
   "source": []
  }
 ],
 "metadata": {
  "kernelspec": {
   "display_name": "Python 3",
   "language": "python",
   "name": "python3"
  },
  "language_info": {
   "codemirror_mode": {
    "name": "ipython",
    "version": 3
   },
   "file_extension": ".py",
   "mimetype": "text/x-python",
   "name": "python",
   "nbconvert_exporter": "python",
   "pygments_lexer": "ipython3",
   "version": "3.12.4"
  }
 },
 "nbformat": 4,
 "nbformat_minor": 5
}
